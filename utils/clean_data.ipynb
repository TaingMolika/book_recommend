{
 "cells": [
  {
   "cell_type": "code",
   "execution_count": 8,
   "metadata": {},
   "outputs": [],
   "source": [
    "import pandas as pd"
   ]
  },
  {
   "cell_type": "code",
   "execution_count": 23,
   "metadata": {},
   "outputs": [],
   "source": [
    "pd.set_option('display.max_columns', None)\n",
    "pd.set_option('display.max_rows', None)\n",
    "pd.set_option('display.max_colwidth', None)"
   ]
  },
  {
   "cell_type": "code",
   "execution_count": null,
   "metadata": {},
   "outputs": [],
   "source": [
    "df = pd.read_csv('../raw_data.csv')\n",
    "df.head()"
   ]
  },
  {
   "cell_type": "code",
   "execution_count": 14,
   "metadata": {},
   "outputs": [
    {
     "data": {
      "text/plain": [
       "UPC             0\n",
       "Title           0\n",
       "Description     2\n",
       "Price           0\n",
       "Availability    0\n",
       "Rating          0\n",
       "Image           0\n",
       "Product Link    0\n",
       "dtype: int64"
      ]
     },
     "execution_count": 14,
     "metadata": {},
     "output_type": "execute_result"
    }
   ],
   "source": [
    "df.isnull().sum()"
   ]
  },
  {
   "cell_type": "code",
   "execution_count": 24,
   "metadata": {},
   "outputs": [
    {
     "data": {
      "text/html": [
       "<div>\n",
       "<style scoped>\n",
       "    .dataframe tbody tr th:only-of-type {\n",
       "        vertical-align: middle;\n",
       "    }\n",
       "\n",
       "    .dataframe tbody tr th {\n",
       "        vertical-align: top;\n",
       "    }\n",
       "\n",
       "    .dataframe thead th {\n",
       "        text-align: right;\n",
       "    }\n",
       "</style>\n",
       "<table border=\"1\" class=\"dataframe\">\n",
       "  <thead>\n",
       "    <tr style=\"text-align: right;\">\n",
       "      <th></th>\n",
       "      <th>UPC</th>\n",
       "      <th>Title</th>\n",
       "      <th>Description</th>\n",
       "      <th>Price</th>\n",
       "      <th>Availability</th>\n",
       "      <th>Rating</th>\n",
       "      <th>Image</th>\n",
       "      <th>Product Link</th>\n",
       "    </tr>\n",
       "  </thead>\n",
       "  <tbody>\n",
       "    <tr>\n",
       "      <th>160</th>\n",
       "      <td>efc3768127714ec3</td>\n",
       "      <td>The Bridge to Consciousness: I'm Writing the Bridge Between Science and Our Old and New Beliefs.</td>\n",
       "      <td>NaN</td>\n",
       "      <td>£32.00</td>\n",
       "      <td>In stock (15 available)</td>\n",
       "      <td>Three</td>\n",
       "      <td>https://books.toscrape.com/media/cache/39/c7/39c7bebcde5d9643ede71ac8ee87ee69.jpg</td>\n",
       "      <td>https://books.toscrape.com/catalogue/the-bridge-to-consciousness-im-writing-the-bridge-between-science-and-our-old-and-new-beliefs_840/index.html</td>\n",
       "    </tr>\n",
       "    <tr>\n",
       "      <th>995</th>\n",
       "      <td>cd2a2a70dd5d176d</td>\n",
       "      <td>Alice in Wonderland (Alice's Adventures in Wonderland #1)</td>\n",
       "      <td>NaN</td>\n",
       "      <td>£55.53</td>\n",
       "      <td>In stock (1 available)</td>\n",
       "      <td>One</td>\n",
       "      <td>https://books.toscrape.com/media/cache/99/df/99df494c230127c3d5ff53153d1f23a3.jpg</td>\n",
       "      <td>https://books.toscrape.com/catalogue/alice-in-wonderland-alices-adventures-in-wonderland-1_5/index.html</td>\n",
       "    </tr>\n",
       "  </tbody>\n",
       "</table>\n",
       "</div>"
      ],
      "text/plain": [
       "                  UPC   \n",
       "160  efc3768127714ec3  \\\n",
       "995  cd2a2a70dd5d176d   \n",
       "\n",
       "                                                                                                Title   \n",
       "160  The Bridge to Consciousness: I'm Writing the Bridge Between Science and Our Old and New Beliefs.  \\\n",
       "995                                         Alice in Wonderland (Alice's Adventures in Wonderland #1)   \n",
       "\n",
       "    Description   Price             Availability Rating   \n",
       "160         NaN  £32.00  In stock (15 available)  Three  \\\n",
       "995         NaN  £55.53   In stock (1 available)    One   \n",
       "\n",
       "                                                                                 Image   \n",
       "160  https://books.toscrape.com/media/cache/39/c7/39c7bebcde5d9643ede71ac8ee87ee69.jpg  \\\n",
       "995  https://books.toscrape.com/media/cache/99/df/99df494c230127c3d5ff53153d1f23a3.jpg   \n",
       "\n",
       "                                                                                                                                          Product Link  \n",
       "160  https://books.toscrape.com/catalogue/the-bridge-to-consciousness-im-writing-the-bridge-between-science-and-our-old-and-new-beliefs_840/index.html  \n",
       "995                                            https://books.toscrape.com/catalogue/alice-in-wonderland-alices-adventures-in-wonderland-1_5/index.html  "
      ]
     },
     "execution_count": 24,
     "metadata": {},
     "output_type": "execute_result"
    }
   ],
   "source": [
    "df[df['Description'].isnull()]"
   ]
  },
  {
   "cell_type": "code",
   "execution_count": 28,
   "metadata": {},
   "outputs": [],
   "source": [
    "df.loc[df[\"UPC\"] == \"cd2a2a70dd5d176d\", \"Description\"] = (\n",
    "    \"Alice's Adventures in Wonderland is a novel written by English author Charles Lutwidge Dodgson, \"\n",
    "    \"better known under the pseudonym Lewis Carroll. It tells the story of a girl named Alice who falls down \"\n",
    "    \"a rabbit-hole into a fantasy world populated by peculiar and anthropomorphic creatures. The tale is filled \"\n",
    "    \"with allusions to Dodgson's friends (and enemies), and to the lessons that British schoolchildren were expected \"\n",
    "    \"to memorize. The tale plays with logic in ways that have made the story of lasting popularity with adults as well \"\n",
    "    \"as children. It is considered to be one of the most characteristic examples of the genre of literary nonsense, and \"\n",
    "    \"its narrative course and structure have been enormously influential, mainly in the fantasy genre.\"\n",
    ")\n",
    "\n",
    "df.loc[df[\"UPC\"] == \"efc3768127714ec3\", \"Description\"] = (\n",
    "    \"This book is written to bridge the gap between science and our old and new beliefs. It is a 12-step bridge that \"\n",
    "    \"covers topics such as the science of numbers, energy attraction, and how thoughts create our reality. It explores \"\n",
    "    \"concepts like the illusion of time, the power of the present moment, and the manifestation of thought. The book aims \"\n",
    "    \"to awaken consciousness and guide readers toward realizing a deeper intelligence beyond thought. Each step on the bridge \"\n",
    "    \"holds infinite truths and opens the door to awakening and powerful personal transformation.\"\n",
    ")\n"
   ]
  },
  {
   "cell_type": "code",
   "execution_count": 29,
   "metadata": {},
   "outputs": [
    {
     "data": {
      "text/plain": [
       "UPC             0\n",
       "Title           0\n",
       "Description     0\n",
       "Price           0\n",
       "Availability    0\n",
       "Rating          0\n",
       "Image           0\n",
       "Product Link    0\n",
       "dtype: int64"
      ]
     },
     "execution_count": 29,
     "metadata": {},
     "output_type": "execute_result"
    }
   ],
   "source": [
    "df.isnull().sum()"
   ]
  },
  {
   "cell_type": "code",
   "execution_count": 15,
   "metadata": {},
   "outputs": [
    {
     "name": "stdout",
     "output_type": "stream",
     "text": [
      "<class 'pandas.core.frame.DataFrame'>\n",
      "RangeIndex: 1000 entries, 0 to 999\n",
      "Data columns (total 8 columns):\n",
      " #   Column        Non-Null Count  Dtype \n",
      "---  ------        --------------  ----- \n",
      " 0   UPC           1000 non-null   object\n",
      " 1   Title         1000 non-null   object\n",
      " 2   Description   998 non-null    object\n",
      " 3   Price         1000 non-null   object\n",
      " 4   Availability  1000 non-null   object\n",
      " 5   Rating        1000 non-null   object\n",
      " 6   Image         1000 non-null   object\n",
      " 7   Product Link  1000 non-null   object\n",
      "dtypes: object(8)\n",
      "memory usage: 62.6+ KB\n"
     ]
    }
   ],
   "source": [
    "df.info()"
   ]
  },
  {
   "cell_type": "code",
   "execution_count": 31,
   "metadata": {},
   "outputs": [
    {
     "data": {
      "text/html": [
       "<div>\n",
       "<style scoped>\n",
       "    .dataframe tbody tr th:only-of-type {\n",
       "        vertical-align: middle;\n",
       "    }\n",
       "\n",
       "    .dataframe tbody tr th {\n",
       "        vertical-align: top;\n",
       "    }\n",
       "\n",
       "    .dataframe thead th {\n",
       "        text-align: right;\n",
       "    }\n",
       "</style>\n",
       "<table border=\"1\" class=\"dataframe\">\n",
       "  <thead>\n",
       "    <tr style=\"text-align: right;\">\n",
       "      <th></th>\n",
       "      <th>UPC</th>\n",
       "      <th>Title</th>\n",
       "      <th>Description</th>\n",
       "      <th>Price</th>\n",
       "      <th>Availability</th>\n",
       "      <th>Rating</th>\n",
       "      <th>Image</th>\n",
       "      <th>Product Link</th>\n",
       "    </tr>\n",
       "  </thead>\n",
       "  <tbody>\n",
       "    <tr>\n",
       "      <th>0</th>\n",
       "      <td>a897fe39b1053632</td>\n",
       "      <td>A Light in the Attic</td>\n",
       "      <td>It's hard to imagine a world without A Light in the Attic. This now-classic collection of poetry and drawings from Shel Silverstein celebrates its 20th anniversary with this special edition. Silverstein's humorous and creative verse can amuse the dowdiest of readers. Lemon-faced adults and fidgety kids sit still and read these rhythmic words and laugh and smile and love th It's hard to imagine a world without A Light in the Attic. This now-classic collection of poetry and drawings from Shel Silverstein celebrates its 20th anniversary with this special edition. Silverstein's humorous and creative verse can amuse the dowdiest of readers. Lemon-faced adults and fidgety kids sit still and read these rhythmic words and laugh and smile and love that Silverstein. Need proof of his genius? RockabyeRockabye baby, in the treetopDon't you know a treetopIs no safe place to rock?And who put you up there,And your cradle, too?Baby, I think someone down here'sGot it in for you. Shel, you never sounded so good. ...more</td>\n",
       "      <td>£51.77</td>\n",
       "      <td>In stock (22 available)</td>\n",
       "      <td>Three</td>\n",
       "      <td>https://books.toscrape.com/media/cache/fe/72/fe72f0532301ec28892ae79a629a293c.jpg</td>\n",
       "      <td>https://books.toscrape.com/catalogue/a-light-in-the-attic_1000/index.html</td>\n",
       "    </tr>\n",
       "  </tbody>\n",
       "</table>\n",
       "</div>"
      ],
      "text/plain": [
       "                UPC                 Title   \n",
       "0  a897fe39b1053632  A Light in the Attic  \\\n",
       "\n",
       "                                                                                                                                                                                                                                                                                                                                                                                                                                                                                                                                                                                                                                                                                                                                                                                                                                                                                                                                                                                                                                                 Description   \n",
       "0  It's hard to imagine a world without A Light in the Attic. This now-classic collection of poetry and drawings from Shel Silverstein celebrates its 20th anniversary with this special edition. Silverstein's humorous and creative verse can amuse the dowdiest of readers. Lemon-faced adults and fidgety kids sit still and read these rhythmic words and laugh and smile and love th It's hard to imagine a world without A Light in the Attic. This now-classic collection of poetry and drawings from Shel Silverstein celebrates its 20th anniversary with this special edition. Silverstein's humorous and creative verse can amuse the dowdiest of readers. Lemon-faced adults and fidgety kids sit still and read these rhythmic words and laugh and smile and love that Silverstein. Need proof of his genius? RockabyeRockabye baby, in the treetopDon't you know a treetopIs no safe place to rock?And who put you up there,And your cradle, too?Baby, I think someone down here'sGot it in for you. Shel, you never sounded so good. ...more  \\\n",
       "\n",
       "    Price             Availability Rating   \n",
       "0  £51.77  In stock (22 available)  Three  \\\n",
       "\n",
       "                                                                               Image   \n",
       "0  https://books.toscrape.com/media/cache/fe/72/fe72f0532301ec28892ae79a629a293c.jpg  \\\n",
       "\n",
       "                                                                Product Link  \n",
       "0  https://books.toscrape.com/catalogue/a-light-in-the-attic_1000/index.html  "
      ]
     },
     "execution_count": 31,
     "metadata": {},
     "output_type": "execute_result"
    }
   ],
   "source": [
    "df.head(1)"
   ]
  },
  {
   "cell_type": "code",
   "execution_count": 32,
   "metadata": {},
   "outputs": [
    {
     "data": {
      "text/plain": [
       "0    51.77\n",
       "1    53.74\n",
       "2    50.10\n",
       "3    47.82\n",
       "4    54.23\n",
       "Name: Price, dtype: float64"
      ]
     },
     "execution_count": 32,
     "metadata": {},
     "output_type": "execute_result"
    }
   ],
   "source": [
    "df[\"Price\"] = df['Price'].str.replace('£', \"\", regex=False).astype(float)\n",
    "df['Price'].head()"
   ]
  },
  {
   "cell_type": "code",
   "execution_count": 33,
   "metadata": {},
   "outputs": [
    {
     "data": {
      "text/plain": [
       "0    In stock (22 available)\n",
       "1    In stock (20 available)\n",
       "2    In stock (20 available)\n",
       "3    In stock (20 available)\n",
       "4    In stock (20 available)\n",
       "Name: Availability, dtype: object"
      ]
     },
     "execution_count": 33,
     "metadata": {},
     "output_type": "execute_result"
    }
   ],
   "source": [
    "df['Availability'].head()"
   ]
  },
  {
   "cell_type": "code",
   "execution_count": 34,
   "metadata": {},
   "outputs": [
    {
     "data": {
      "text/plain": [
       "array(['In stock (22 available)', 'In stock (20 available)',\n",
       "       'In stock (19 available)', 'In stock (18 available)',\n",
       "       'In stock (17 available)', 'In stock (16 available)',\n",
       "       'In stock (15 available)', 'In stock (14 available)',\n",
       "       'In stock (13 available)', 'In stock (12 available)',\n",
       "       'In stock (11 available)', 'In stock (10 available)',\n",
       "       'In stock (9 available)', 'In stock (8 available)',\n",
       "       'In stock (7 available)', 'In stock (6 available)',\n",
       "       'In stock (5 available)', 'In stock (4 available)',\n",
       "       'In stock (3 available)', 'In stock (2 available)',\n",
       "       'In stock (1 available)'], dtype=object)"
      ]
     },
     "execution_count": 34,
     "metadata": {},
     "output_type": "execute_result"
    }
   ],
   "source": [
    "df['Availability'].unique()"
   ]
  },
  {
   "cell_type": "code",
   "execution_count": 36,
   "metadata": {},
   "outputs": [
    {
     "data": {
      "text/plain": [
       "0    22\n",
       "1    20\n",
       "2    20\n",
       "3    20\n",
       "4    20\n",
       "Name: Availability, dtype: int64"
      ]
     },
     "execution_count": 36,
     "metadata": {},
     "output_type": "execute_result"
    }
   ],
   "source": [
    "df[\"Availability\"] = df[\"Availability\"].str.extract(r'\\((\\d+)\\savailable\\)').astype(int)\n",
    "\n",
    "df['Availability'].head()"
   ]
  },
  {
   "cell_type": "code",
   "execution_count": 37,
   "metadata": {},
   "outputs": [
    {
     "data": {
      "text/plain": [
       "array(['Three', 'One', 'Four', 'Five', 'Two'], dtype=object)"
      ]
     },
     "execution_count": 37,
     "metadata": {},
     "output_type": "execute_result"
    }
   ],
   "source": [
    "df['Rating'].unique()"
   ]
  },
  {
   "cell_type": "code",
   "execution_count": 38,
   "metadata": {},
   "outputs": [],
   "source": [
    "word_to_num = {\n",
    "    \"One\" : 1,\n",
    "    \"Two\" : 2,\n",
    "    \"Three\" : 3,\n",
    "    \"Four\" : 4, \n",
    "    \"Five\" : 5\n",
    "}\n",
    "\n",
    "df[\"Rating\"] = df[\"Rating\"].map(word_to_num)"
   ]
  },
  {
   "cell_type": "code",
   "execution_count": 39,
   "metadata": {},
   "outputs": [
    {
     "data": {
      "text/plain": [
       "array([3, 1, 4, 5, 2])"
      ]
     },
     "execution_count": 39,
     "metadata": {},
     "output_type": "execute_result"
    }
   ],
   "source": [
    "df[\"Rating\"].unique()"
   ]
  },
  {
   "cell_type": "code",
   "execution_count": 40,
   "metadata": {},
   "outputs": [
    {
     "name": "stdout",
     "output_type": "stream",
     "text": [
      "<class 'pandas.core.frame.DataFrame'>\n",
      "RangeIndex: 1000 entries, 0 to 999\n",
      "Data columns (total 8 columns):\n",
      " #   Column        Non-Null Count  Dtype  \n",
      "---  ------        --------------  -----  \n",
      " 0   UPC           1000 non-null   object \n",
      " 1   Title         1000 non-null   object \n",
      " 2   Description   1000 non-null   object \n",
      " 3   Price         1000 non-null   float64\n",
      " 4   Availability  1000 non-null   int64  \n",
      " 5   Rating        1000 non-null   int64  \n",
      " 6   Image         1000 non-null   object \n",
      " 7   Product Link  1000 non-null   object \n",
      "dtypes: float64(1), int64(2), object(5)\n",
      "memory usage: 62.6+ KB\n"
     ]
    }
   ],
   "source": [
    "df.info()"
   ]
  },
  {
   "cell_type": "code",
   "execution_count": 41,
   "metadata": {},
   "outputs": [
    {
     "data": {
      "text/html": [
       "<div>\n",
       "<style scoped>\n",
       "    .dataframe tbody tr th:only-of-type {\n",
       "        vertical-align: middle;\n",
       "    }\n",
       "\n",
       "    .dataframe tbody tr th {\n",
       "        vertical-align: top;\n",
       "    }\n",
       "\n",
       "    .dataframe thead th {\n",
       "        text-align: right;\n",
       "    }\n",
       "</style>\n",
       "<table border=\"1\" class=\"dataframe\">\n",
       "  <thead>\n",
       "    <tr style=\"text-align: right;\">\n",
       "      <th></th>\n",
       "      <th>UPC</th>\n",
       "      <th>Title</th>\n",
       "      <th>Description</th>\n",
       "      <th>Price</th>\n",
       "      <th>Availability</th>\n",
       "      <th>Rating</th>\n",
       "      <th>Image</th>\n",
       "      <th>Product Link</th>\n",
       "    </tr>\n",
       "  </thead>\n",
       "  <tbody>\n",
       "    <tr>\n",
       "      <th>0</th>\n",
       "      <td>a897fe39b1053632</td>\n",
       "      <td>A Light in the Attic</td>\n",
       "      <td>It's hard to imagine a world without A Light in the Attic. This now-classic collection of poetry and drawings from Shel Silverstein celebrates its 20th anniversary with this special edition. Silverstein's humorous and creative verse can amuse the dowdiest of readers. Lemon-faced adults and fidgety kids sit still and read these rhythmic words and laugh and smile and love th It's hard to imagine a world without A Light in the Attic. This now-classic collection of poetry and drawings from Shel Silverstein celebrates its 20th anniversary with this special edition. Silverstein's humorous and creative verse can amuse the dowdiest of readers. Lemon-faced adults and fidgety kids sit still and read these rhythmic words and laugh and smile and love that Silverstein. Need proof of his genius? RockabyeRockabye baby, in the treetopDon't you know a treetopIs no safe place to rock?And who put you up there,And your cradle, too?Baby, I think someone down here'sGot it in for you. Shel, you never sounded so good. ...more</td>\n",
       "      <td>51.77</td>\n",
       "      <td>22</td>\n",
       "      <td>3</td>\n",
       "      <td>https://books.toscrape.com/media/cache/fe/72/fe72f0532301ec28892ae79a629a293c.jpg</td>\n",
       "      <td>https://books.toscrape.com/catalogue/a-light-in-the-attic_1000/index.html</td>\n",
       "    </tr>\n",
       "    <tr>\n",
       "      <th>1</th>\n",
       "      <td>90fa61229261140a</td>\n",
       "      <td>Tipping the Velvet</td>\n",
       "      <td>\"Erotic and absorbing...Written with starling power.\"--\"The New York Times Book Review \" Nan King, an oyster girl, is captivated by the music hall phenomenon Kitty Butler, a male impersonator extraordinaire treading the boards in Canterbury. Through a friend at the box office, Nan manages to visit all her shows and finally meet her heroine. Soon after, she becomes Kitty's \"Erotic and absorbing...Written with starling power.\"--\"The New York Times Book Review \" Nan King, an oyster girl, is captivated by the music hall phenomenon Kitty Butler, a male impersonator extraordinaire treading the boards in Canterbury. Through a friend at the box office, Nan manages to visit all her shows and finally meet her heroine. Soon after, she becomes Kitty's dresser and the two head for the bright lights of Leicester Square where they begin a glittering career as music-hall stars in an all-singing and dancing double act. At the same time, behind closed doors, they admit their attraction to each other and their affair begins. ...more</td>\n",
       "      <td>53.74</td>\n",
       "      <td>20</td>\n",
       "      <td>1</td>\n",
       "      <td>https://books.toscrape.com/media/cache/08/e9/08e94f3731d7d6b760dfbfbc02ca5c62.jpg</td>\n",
       "      <td>https://books.toscrape.com/catalogue/tipping-the-velvet_999/index.html</td>\n",
       "    </tr>\n",
       "  </tbody>\n",
       "</table>\n",
       "</div>"
      ],
      "text/plain": [
       "                UPC                 Title   \n",
       "0  a897fe39b1053632  A Light in the Attic  \\\n",
       "1  90fa61229261140a    Tipping the Velvet   \n",
       "\n",
       "                                                                                                                                                                                                                                                                                                                                                                                                                                                                                                                                                                                                                                                                                                                                                                                                                                                                                                                                                                                                                                                             Description   \n",
       "0              It's hard to imagine a world without A Light in the Attic. This now-classic collection of poetry and drawings from Shel Silverstein celebrates its 20th anniversary with this special edition. Silverstein's humorous and creative verse can amuse the dowdiest of readers. Lemon-faced adults and fidgety kids sit still and read these rhythmic words and laugh and smile and love th It's hard to imagine a world without A Light in the Attic. This now-classic collection of poetry and drawings from Shel Silverstein celebrates its 20th anniversary with this special edition. Silverstein's humorous and creative verse can amuse the dowdiest of readers. Lemon-faced adults and fidgety kids sit still and read these rhythmic words and laugh and smile and love that Silverstein. Need proof of his genius? RockabyeRockabye baby, in the treetopDon't you know a treetopIs no safe place to rock?And who put you up there,And your cradle, too?Baby, I think someone down here'sGot it in for you. Shel, you never sounded so good. ...more  \\\n",
       "1  \"Erotic and absorbing...Written with starling power.\"--\"The New York Times Book Review \" Nan King, an oyster girl, is captivated by the music hall phenomenon Kitty Butler, a male impersonator extraordinaire treading the boards in Canterbury. Through a friend at the box office, Nan manages to visit all her shows and finally meet her heroine. Soon after, she becomes Kitty's \"Erotic and absorbing...Written with starling power.\"--\"The New York Times Book Review \" Nan King, an oyster girl, is captivated by the music hall phenomenon Kitty Butler, a male impersonator extraordinaire treading the boards in Canterbury. Through a friend at the box office, Nan manages to visit all her shows and finally meet her heroine. Soon after, she becomes Kitty's dresser and the two head for the bright lights of Leicester Square where they begin a glittering career as music-hall stars in an all-singing and dancing double act. At the same time, behind closed doors, they admit their attraction to each other and their affair begins. ...more   \n",
       "\n",
       "   Price  Availability  Rating   \n",
       "0  51.77            22       3  \\\n",
       "1  53.74            20       1   \n",
       "\n",
       "                                                                               Image   \n",
       "0  https://books.toscrape.com/media/cache/fe/72/fe72f0532301ec28892ae79a629a293c.jpg  \\\n",
       "1  https://books.toscrape.com/media/cache/08/e9/08e94f3731d7d6b760dfbfbc02ca5c62.jpg   \n",
       "\n",
       "                                                                Product Link  \n",
       "0  https://books.toscrape.com/catalogue/a-light-in-the-attic_1000/index.html  \n",
       "1     https://books.toscrape.com/catalogue/tipping-the-velvet_999/index.html  "
      ]
     },
     "execution_count": 41,
     "metadata": {},
     "output_type": "execute_result"
    }
   ],
   "source": [
    "df.head(2)"
   ]
  },
  {
   "cell_type": "code",
   "execution_count": 42,
   "metadata": {},
   "outputs": [],
   "source": [
    "df.to_csv(\"clean_data.csv\", header=True, index=False)"
   ]
  },
  {
   "cell_type": "code",
   "execution_count": null,
   "metadata": {},
   "outputs": [],
   "source": []
  }
 ],
 "metadata": {
  "kernelspec": {
   "display_name": "Python 3.11.0 64-bit",
   "language": "python",
   "name": "python3"
  },
  "language_info": {
   "codemirror_mode": {
    "name": "ipython",
    "version": 3
   },
   "file_extension": ".py",
   "mimetype": "text/x-python",
   "name": "python",
   "nbconvert_exporter": "python",
   "pygments_lexer": "ipython3",
   "version": "3.11.0"
  },
  "orig_nbformat": 4,
  "vscode": {
   "interpreter": {
    "hash": "aee8b7b246df8f9039afb4144a1f6fd8d2ca17a180786b69acc140d282b71a49"
   }
  }
 },
 "nbformat": 4,
 "nbformat_minor": 2
}
